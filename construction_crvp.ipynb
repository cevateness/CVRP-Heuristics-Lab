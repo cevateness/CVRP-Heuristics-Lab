{
 "cells": [
  {
   "cell_type": "code",
   "execution_count": 43,
   "metadata": {},
   "outputs": [],
   "source": [
    "import numpy as np \n",
    "import pandas as pd\n",
    "import vrplib\n",
    "import collections\n",
    "from scipy.cluster.hierarchy import linkage, fcluster,inconsistent\n",
    "from scipy.spatial.distance import pdist"
   ]
  },
  {
   "cell_type": "code",
   "execution_count": 44,
   "metadata": {},
   "outputs": [
    {
     "data": {
      "text/plain": [
       "dict_keys(['name', 'comment', 'type', 'dimension', 'edge_weight_type', 'edge_weight_format', 'node_coord_type', 'capacity', 'edge_weight', 'node_coord', 'demand', 'depot'])"
      ]
     },
     "execution_count": 44,
     "metadata": {},
     "output_type": "execute_result"
    }
   ],
   "source": [
    "# read VRPLIB formatted instances (default)\n",
    "\n",
    "instance = vrplib.read_instance(\"C:/Users/cevat/Desktop/assignment/CVRP-Heuristics-Lab/Vrp-Set-D/Vrp-Set-D/D/ORTEC-n242-k12.vrp\")\n",
    "solution = vrplib.read_solution(\"C:/Users/cevat/Desktop/assignment/CVRP-Heuristics-Lab/Vrp-Set-D/Vrp-Set-D/D/ORTEC-n242-k12.sol\")\n",
    "instance.keys()"
   ]
  },
  {
   "cell_type": "code",
   "execution_count": 45,
   "metadata": {},
   "outputs": [],
   "source": [
    "def hierarchical_clustering(instance):\n",
    "\n",
    "    vehicle_capacity = instance[\"capacity\"]\n",
    "    number_of_nodes = len(instance[\"node_coord\"]) \n",
    "\n",
    "\n",
    "\n",
    "    # calculate customers vs depot coordinate differences.\n",
    "    customers = pd.DataFrame(columns=[\"Demand\",\"DistanceToDepot\",\"CoordDifferenceX\",\"CoordDifferenceY\"])\n",
    "    for customer in range(1,number_of_nodes):\n",
    "        coord_diff_x = instance[\"node_coord\"][customer,0] - instance[\"node_coord\"][0,0]\n",
    "        coord_diff_y = instance[\"node_coord\"][customer,1] - instance[\"node_coord\"][0,1]\n",
    "        customers.loc[customer, \"DistanceToDepot\"] = instance[\"edge_weight\"][customer,0]\n",
    "        customers.loc[customer, \"Demand\"] = instance[\"demand\"][customer]\n",
    "        customers.loc[customer, \"CoordDifferenceX\"] = coord_diff_x\n",
    "        customers.loc[customer, \"CoordDifferenceY\"] = coord_diff_y\n",
    "\n",
    "\n",
    "    # Perform hierarchical clustering on coordinate differences\n",
    "    coords = customers[[\"CoordDifferenceX\", \"CoordDifferenceY\"]].values\n",
    "    distances = pdist(coords)  # Calculate the pairwise distances\n",
    "    linkage_matrix = linkage(distances, method='ward')  # Perform hierarchical clustering\n",
    "\n",
    "    # Calculate the inconsistency matrix\n",
    "    inconsistency_matrix = inconsistent(linkage_matrix)\n",
    "\n",
    "    max_inconsistency = np.max(inconsistency_matrix[:, 0])\n",
    "    threshold = max_inconsistency * 0.5 \n",
    "\n",
    "    # Assign clusters based on the dynamic threshold\n",
    "    customers[\"Cluster\"] = fcluster(linkage_matrix, threshold, criterion='distance')\n",
    "\n",
    "    # Sort customers by Cluster, then Demand (descending), DistanceToDepot (ascending)\n",
    "    sorted_customers = customers.sort_values(by=[\"Cluster\", \"DistanceToDepot\", \"Demand\"], ascending=[True, True, False])\n",
    "\n",
    "\n",
    "    # create initial solution dict\n",
    "\n",
    "    routes = collections.defaultdict(list)\n",
    "\n",
    "    candidate_vehicle_cap = vehicle_capacity\n",
    "    candidate_vehicle_index = 0 \n",
    "    for i in sorted_customers.index: \n",
    "        if candidate_vehicle_cap >= sorted_customers.loc[i,\"Demand\"]   : \n",
    "            routes[candidate_vehicle_index].append(i) \n",
    "            candidate_vehicle_cap -= sorted_customers.loc[i,\"Demand\"]\n",
    "        else:\n",
    "            candidate_vehicle_index += 1\n",
    "            routes[candidate_vehicle_index].append(i)\n",
    "            candidate_vehicle_cap = vehicle_capacity\n",
    "            candidate_vehicle_cap -= sorted_customers.loc[i,\"Demand\"]\n",
    "    return routes"
   ]
  },
  {
   "cell_type": "code",
   "execution_count": 46,
   "metadata": {},
   "outputs": [],
   "source": [
    "\n",
    "def nearest_neighbor(instance):\n",
    "    n = len(instance[\"demand\"])\n",
    "    visited = np.zeros(n, dtype=bool)  # Track visited nodes\n",
    "    routes = {}\n",
    "    route_index = 0\n",
    "    depot = 0  # Assuming the depot is at index 0\n",
    "    \n",
    "    while not all(visited[1:]):  # Continue until all customers are visited\n",
    "        current_route = [depot]  # Start a new route from the depot\n",
    "        current_load = 0\n",
    "        \n",
    "        while True:\n",
    "            last_node = current_route[-1]\n",
    "            nearest_node = None\n",
    "            nearest_distance = float('inf')\n",
    "            \n",
    "            # Find the nearest unvisited customer that can be added without exceeding capacity\n",
    "            for i in range(1, n):\n",
    "                if not visited[i] and instance[\"demand\"][i] + current_load <= instance[\"capacity\"]:\n",
    "                    distance = instance[\"edge_weight\"][last_node][i]\n",
    "                    if distance < nearest_distance:\n",
    "                        nearest_distance = distance\n",
    "                        nearest_node = i\n",
    "            \n",
    "            if nearest_node is None:  # No more customers can be added to this route\n",
    "                break\n",
    "            \n",
    "            # Add the nearest customer to the route\n",
    "            current_route.append(nearest_node)\n",
    "            current_load += instance[\"demand\"][nearest_node]\n",
    "            visited[nearest_node] = True\n",
    "        \n",
    "        current_route.append(depot)  # Return to the depot to complete the route\n",
    "        routes[route_index] = current_route  # Store the route in the dictionary\n",
    "        route_index += 1\n",
    "    \n",
    "    return routes\n",
    "\n"
   ]
  },
  {
   "cell_type": "code",
   "execution_count": 47,
   "metadata": {},
   "outputs": [],
   "source": [
    "import heapq\n",
    "\n",
    "def clarke_wright_savings(instance):\n",
    "    n = len(instance[\"demand\"])\n",
    "    savings = []\n",
    "    # Initialize each customer in a separate route\n",
    "    routes = {i: [i] for i in range(1, n)}\n",
    "    capacities = {i: instance[\"demand\"][i] for i in range(1, n)}\n",
    "    \n",
    "    # Calculate savings for merging each pair of customers\n",
    "    for i in range(1, n):\n",
    "        for j in range(i+1, n):\n",
    "            save = instance[\"edge_weight\"][0][i] + instance[\"edge_weight\"][0][j] - instance[\"edge_weight\"][i][j]\n",
    "            heapq.heappush(savings, (-save, i, j))\n",
    "    \n",
    "    while savings:\n",
    "        save, i, j = heapq.heappop(savings)\n",
    "        route_i = next((route for route in routes.values() if route[0] == i), None)\n",
    "        route_j = next((route for route in routes.values() if route[-1] == j), None)\n",
    "        \n",
    "        # Merge routes if they are distinct and the merge does not exceed vehicle capacity\n",
    "        if route_i and route_j and route_i != route_j:\n",
    "            if capacities[route_i[0]] + capacities[route_j[-1]] <= instance[\"capacity\"]:\n",
    "                # Merge route_j into route_i\n",
    "                route_i.extend(route_j)\n",
    "                capacities[route_i[0]] += capacities[route_j[-1]]\n",
    "                del routes[route_j[0]]\n",
    "    \n",
    "    # Reformat routes to be indexed by route index\n",
    "    routes_final = {index: route for index, route in enumerate(routes.values())}\n",
    "    \n",
    "    return routes_final\n",
    "\n"
   ]
  },
  {
   "cell_type": "code",
   "execution_count": 48,
   "metadata": {},
   "outputs": [],
   "source": [
    "def calculate_costs(solution,instance,penalty_per_unit):\n",
    "    total_weight_cost = 0 \n",
    "    total_weight_cost_with_penalty = 0\n",
    "    route_cost = collections.Counter()\n",
    "    total_demand = collections.Counter()\n",
    "    for vehicle,route in solution.items():\n",
    "        for node in route:\n",
    "            total_demand[vehicle] += instance[\"demand\"][node]\n",
    "\n",
    "        for node in range(len(route)-1):\n",
    "            route_cost[vehicle] += instance[\"edge_weight\"][node,node+1]\n",
    "\n",
    "        total_weight_cost += route_cost[vehicle]\n",
    "        total_weight_cost_with_penalty += route_cost[vehicle]\n",
    "\n",
    "        if total_demand[vehicle] > instance[\"capacity\"] :\n",
    "            overcapacity = total_demand[vehicle] - instance[\"capacity\"]\n",
    "            total_weight_cost_with_penalty += penalty_per_unit * overcapacity\n",
    "    \n",
    "    return total_weight_cost,total_weight_cost_with_penalty,dict(route_cost),dict(total_demand)\n",
    "\n",
    "\n"
   ]
  },
  {
   "cell_type": "code",
   "execution_count": 49,
   "metadata": {},
   "outputs": [
    {
     "data": {
      "text/plain": [
       "(493832.0,\n",
       " 493832.0,\n",
       " {0: 41366.0,\n",
       "  1: 41783.0,\n",
       "  2: 40518.0,\n",
       "  3: 40518.0,\n",
       "  4: 40518.0,\n",
       "  5: 42587.0,\n",
       "  6: 42587.0,\n",
       "  7: 41366.0,\n",
       "  8: 37701.0,\n",
       "  9: 41783.0,\n",
       "  10: 40518.0,\n",
       "  11: 42587.0},\n",
       " {0: 122,\n",
       "  1: 123,\n",
       "  2: 124,\n",
       "  3: 124,\n",
       "  4: 123,\n",
       "  5: 124,\n",
       "  6: 122,\n",
       "  7: 122,\n",
       "  8: 123,\n",
       "  9: 124,\n",
       "  10: 119,\n",
       "  11: 121})"
      ]
     },
     "execution_count": 49,
     "metadata": {},
     "output_type": "execute_result"
    }
   ],
   "source": [
    "sol1= hierarchical_clustering(instance)\n",
    "sol2 = nearest_neighbor(instance)\n",
    "sol3 = clarke_wright_savings(instance)\n",
    "calculate_costs(sol1,instance,100)"
   ]
  },
  {
   "cell_type": "code",
   "execution_count": 53,
   "metadata": {},
   "outputs": [
    {
     "data": {
      "text/plain": [
       "(437081.0, 571681.0, {0: 437081.0}, {0: 1471})"
      ]
     },
     "execution_count": 53,
     "metadata": {},
     "output_type": "execute_result"
    }
   ],
   "source": [
    "calculate_costs(sol3,instance,100)"
   ]
  }
 ],
 "metadata": {
  "kernelspec": {
   "display_name": "base",
   "language": "python",
   "name": "python3"
  },
  "language_info": {
   "codemirror_mode": {
    "name": "ipython",
    "version": 3
   },
   "file_extension": ".py",
   "mimetype": "text/x-python",
   "name": "python",
   "nbconvert_exporter": "python",
   "pygments_lexer": "ipython3",
   "version": "3.8.5"
  }
 },
 "nbformat": 4,
 "nbformat_minor": 2
}
